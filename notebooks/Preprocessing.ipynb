{
 "cells": [
  {
   "cell_type": "code",
   "execution_count": 0,
   "metadata": {
    "application/vnd.databricks.v1+cell": {
     "cellMetadata": {},
     "inputWidgets": {},
     "nuid": "aa01ef4e-eac5-41ed-9b7c-f27cdc775e59",
     "showTitle": false,
     "title": ""
    }
   },
   "outputs": [],
   "source": [
    "from sklearn.datasets import fetch_20newsgroups\n",
    "\n",
    "newsgroup_train = fetch_20newsgroups(subset=\"train\")\n",
    "newsgroup_test = fetch_20newsgroups(subset=\"test\")"
   ]
  },
  {
   "cell_type": "code",
   "execution_count": 0,
   "metadata": {
    "application/vnd.databricks.v1+cell": {
     "cellMetadata": {},
     "inputWidgets": {},
     "nuid": "30004eb0-fb11-4527-b8ee-a823840100d7",
     "showTitle": false,
     "title": ""
    }
   },
   "outputs": [],
   "source": [
    "from pyspark.sql.types import *\n",
    "from pyspark.sql.functions import *"
   ]
  },
  {
   "cell_type": "code",
   "execution_count": 0,
   "metadata": {
    "application/vnd.databricks.v1+cell": {
     "cellMetadata": {},
     "inputWidgets": {},
     "nuid": "a4c80d87-968c-47ad-98d0-1aaefed22b10",
     "showTitle": false,
     "title": ""
    }
   },
   "outputs": [],
   "source": [
    "%pip install nltk"
   ]
  },
  {
   "cell_type": "code",
   "execution_count": 0,
   "metadata": {
    "application/vnd.databricks.v1+cell": {
     "cellMetadata": {},
     "inputWidgets": {},
     "nuid": "41553493-235c-43ff-89ab-1fdb5eac7e82",
     "showTitle": false,
     "title": ""
    }
   },
   "outputs": [],
   "source": [
    "from nltk.stem import WordNetLemmatizer, PorterStemmer\n",
    "import nltk\n",
    "nltk.download('averaged_perceptron_tagger')\n",
    "nltk.download('wordnet')"
   ]
  },
  {
   "cell_type": "code",
   "execution_count": 0,
   "metadata": {
    "application/vnd.databricks.v1+cell": {
     "cellMetadata": {},
     "inputWidgets": {},
     "nuid": "d8264579-8f27-4ab9-a620-bfeedd241f0a",
     "showTitle": false,
     "title": ""
    }
   },
   "outputs": [],
   "source": [
    "type(newsgroup_train)"
   ]
  },
  {
   "cell_type": "code",
   "execution_count": 0,
   "metadata": {
    "application/vnd.databricks.v1+cell": {
     "cellMetadata": {},
     "inputWidgets": {},
     "nuid": "b9968bc6-6075-4bd0-a219-012d991a9a05",
     "showTitle": false,
     "title": ""
    }
   },
   "outputs": [],
   "source": [
    "import pandas as pd\n",
    "\n",
    "df = pd.DataFrame([newsgroup_train.data, newsgroup_train.target.tolist()])"
   ]
  },
  {
   "cell_type": "code",
   "execution_count": 0,
   "metadata": {
    "application/vnd.databricks.v1+cell": {
     "cellMetadata": {},
     "inputWidgets": {},
     "nuid": "a8c59138-154d-45de-bef9-5749a1979a34",
     "showTitle": false,
     "title": ""
    }
   },
   "outputs": [],
   "source": [
    "df.head(5)"
   ]
  },
  {
   "cell_type": "markdown",
   "metadata": {
    "application/vnd.databricks.v1+cell": {
     "cellMetadata": {},
     "inputWidgets": {},
     "nuid": "c5f59137-ecd1-4256-b11d-ec5cf70db87f",
     "showTitle": false,
     "title": ""
    }
   },
   "source": [
    "The first row is the text and second row is the label which represents a particular topic. The data is in transformed form so we will revert to a normal dataframe"
   ]
  },
  {
   "cell_type": "code",
   "execution_count": 0,
   "metadata": {
    "application/vnd.databricks.v1+cell": {
     "cellMetadata": {},
     "inputWidgets": {},
     "nuid": "28b0dadf-3403-4f62-aa61-fbbdb2d11725",
     "showTitle": false,
     "title": ""
    }
   },
   "outputs": [],
   "source": [
    "df = pd.DataFrame([newsgroup_train.data, newsgroup_train.target.tolist()]).T\n",
    "df.columns = ['text', 'target']\n",
    "\n",
    "targets = pd.DataFrame(newsgroup_train.target_names)\n",
    "targets.columns = ['title']\n",
    "\n",
    "ngout = pd.merge(df, targets, left_on='target', right_index=True)"
   ]
  },
  {
   "cell_type": "code",
   "execution_count": 0,
   "metadata": {
    "application/vnd.databricks.v1+cell": {
     "cellMetadata": {},
     "inputWidgets": {},
     "nuid": "d058eca1-5ec9-449f-83ed-7b6157a22ff6",
     "showTitle": false,
     "title": ""
    }
   },
   "outputs": [],
   "source": [
    "display(ngout)"
   ]
  },
  {
   "cell_type": "markdown",
   "metadata": {
    "application/vnd.databricks.v1+cell": {
     "cellMetadata": {},
     "inputWidgets": {},
     "nuid": "b68fbe0e-bd95-4a07-817e-6da994e0107b",
     "showTitle": false,
     "title": ""
    }
   },
   "source": [
    "The text contains full email including the header which is not relevant in our case. We only want to retrieve the text from the body."
   ]
  },
  {
   "cell_type": "code",
   "execution_count": 0,
   "metadata": {
    "application/vnd.databricks.v1+cell": {
     "cellMetadata": {},
     "inputWidgets": {},
     "nuid": "21dc72db-5e17-4336-ba7f-7315a40f989b",
     "showTitle": false,
     "title": ""
    }
   },
   "outputs": [],
   "source": [
    "sdf= spark.createDataFrame(ngout)"
   ]
  },
  {
   "cell_type": "code",
   "execution_count": 0,
   "metadata": {
    "application/vnd.databricks.v1+cell": {
     "cellMetadata": {},
     "inputWidgets": {},
     "nuid": "c9ac7bfe-00f5-4644-9a24-a3250b303f71",
     "showTitle": false,
     "title": ""
    }
   },
   "outputs": [],
   "source": [
    "display(sdf)"
   ]
  },
  {
   "cell_type": "code",
   "execution_count": 0,
   "metadata": {
    "application/vnd.databricks.v1+cell": {
     "cellMetadata": {},
     "inputWidgets": {},
     "nuid": "06a8a6cc-f9b1-44ce-8b53-a6e54e9845b8",
     "showTitle": false,
     "title": ""
    }
   },
   "outputs": [],
   "source": [
    "from pyspark.sql.functions import split\n",
    "from pyspark.sql.functions import monotonically_increasing_id, col"
   ]
  },
  {
   "cell_type": "markdown",
   "metadata": {
    "application/vnd.databricks.v1+cell": {
     "cellMetadata": {},
     "inputWidgets": {},
     "nuid": "bd79954b-fedd-4a73-9d58-02232310aeb0",
     "showTitle": false,
     "title": ""
    }
   },
   "source": [
    "We will create a new column \"text_sep\" and split on two empty lines which is was was seperating email header and body in the dataset and select other columns along with it"
   ]
  },
  {
   "cell_type": "code",
   "execution_count": 0,
   "metadata": {
    "application/vnd.databricks.v1+cell": {
     "cellMetadata": {},
     "inputWidgets": {},
     "nuid": "c31e87b8-0fb6-4c39-a437-91b84af7a8da",
     "showTitle": false,
     "title": ""
    }
   },
   "outputs": [],
   "source": [
    "sdf = sdf.withColumn(\"text_sep\", split(sdf.text, \"\\n\\n\")).select(col('text'), col('target'), col('title'),\n",
    "                                                                  col('text_sep').getItem(1), col('text_sep').getItem(2)).withColumn(\"id\", monotonically_increasing_id())"
   ]
  },
  {
   "cell_type": "code",
   "execution_count": 0,
   "metadata": {
    "application/vnd.databricks.v1+cell": {
     "cellMetadata": {},
     "inputWidgets": {},
     "nuid": "4313c638-7679-43bc-aec7-0e55ffe9b2e1",
     "showTitle": false,
     "title": ""
    }
   },
   "outputs": [],
   "source": [
    "display(sdf)"
   ]
  },
  {
   "cell_type": "code",
   "execution_count": 0,
   "metadata": {
    "application/vnd.databricks.v1+cell": {
     "cellMetadata": {},
     "inputWidgets": {},
     "nuid": "53adb29c-5db0-4c43-bfd0-20fd0d198a39",
     "showTitle": false,
     "title": ""
    }
   },
   "outputs": [],
   "source": [
    "sdf.printSchema()"
   ]
  },
  {
   "cell_type": "markdown",
   "metadata": {
    "application/vnd.databricks.v1+cell": {
     "cellMetadata": {},
     "inputWidgets": {},
     "nuid": "687e46e0-1ec8-44ae-b0e3-44c4fcf52c9e",
     "showTitle": false,
     "title": ""
    }
   },
   "source": [
    "\n",
    "Creating a temporary view to run sql commands"
   ]
  },
  {
   "cell_type": "code",
   "execution_count": 0,
   "metadata": {
    "application/vnd.databricks.v1+cell": {
     "cellMetadata": {},
     "inputWidgets": {},
     "nuid": "85fde644-2bc4-44e5-8894-a197e0467892",
     "showTitle": false,
     "title": ""
    }
   },
   "outputs": [],
   "source": [
    "temp_table_name = \"newsgroup\"\n",
    "\n",
    "sdf.createOrReplaceTempView(temp_table_name)"
   ]
  },
  {
   "cell_type": "code",
   "execution_count": 0,
   "metadata": {
    "application/vnd.databricks.v1+cell": {
     "cellMetadata": {},
     "inputWidgets": {},
     "nuid": "6575eaa5-dc60-4016-9cf4-361c6440ab85",
     "showTitle": false,
     "title": ""
    }
   },
   "outputs": [],
   "source": [
    "%sql\n",
    "\n",
    "select * from newsgroup"
   ]
  },
  {
   "cell_type": "code",
   "execution_count": 0,
   "metadata": {
    "application/vnd.databricks.v1+cell": {
     "cellMetadata": {},
     "inputWidgets": {},
     "nuid": "52f85615-31c3-493b-82f5-4f4351d0df30",
     "showTitle": false,
     "title": ""
    }
   },
   "outputs": [],
   "source": [
    "%sql\n",
    "\n",
    "select count(*) from newsgroup where 'text_sep[2]' is null"
   ]
  },
  {
   "cell_type": "code",
   "execution_count": 0,
   "metadata": {
    "application/vnd.databricks.v1+cell": {
     "cellMetadata": {},
     "inputWidgets": {},
     "nuid": "af0b36a2-15b1-47a1-a358-c5f5c6c6804e",
     "showTitle": false,
     "title": ""
    }
   },
   "outputs": [],
   "source": [
    "%sql\n",
    "\n",
    "select count(*) from newsgroup where 'text_sep[1]' = ''"
   ]
  },
  {
   "cell_type": "markdown",
   "metadata": {
    "application/vnd.databricks.v1+cell": {
     "cellMetadata": {},
     "inputWidgets": {},
     "nuid": "e622fa9c-8c39-4e15-8f27-89504ea59641",
     "showTitle": false,
     "title": ""
    }
   },
   "source": [
    "\n",
    "Text Cleaning"
   ]
  },
  {
   "cell_type": "code",
   "execution_count": 0,
   "metadata": {
    "application/vnd.databricks.v1+cell": {
     "cellMetadata": {},
     "inputWidgets": {},
     "nuid": "26f077eb-17ab-41de-8969-a005b364ede4",
     "showTitle": false,
     "title": ""
    }
   },
   "outputs": [],
   "source": [
    "from pyspark.sql.types import FloatType\n",
    "import re"
   ]
  },
  {
   "cell_type": "code",
   "execution_count": 0,
   "metadata": {
    "application/vnd.databricks.v1+cell": {
     "cellMetadata": {},
     "inputWidgets": {},
     "nuid": "9b9ba870-8c4a-4c53-a380-31161d542d77",
     "showTitle": false,
     "title": ""
    }
   },
   "outputs": [],
   "source": [
    "def clean_text(in_string):\n",
    "    # Remove email\n",
    "    remove_email = re.sub('\\S*@\\S*\\s?', '', in_string)\n",
    "    # Remove extra whitespaces\n",
    "    remove_nl = re.sub('\\s+', ' ', remove_email)\n",
    "    # Remove miscellaneous symbols\n",
    "    remove_othr = re.sub(\"\\'|\\>|\\:|\\-\", \"\", remove_nl)\n",
    "    return remove_othr\n",
    "\n",
    "# Register as spark udf function to run on any spark cluster\n",
    "spark.udf.register(\"clean\", clean_text)"
   ]
  },
  {
   "cell_type": "markdown",
   "metadata": {
    "application/vnd.databricks.v1+cell": {
     "cellMetadata": {},
     "inputWidgets": {},
     "nuid": "2bfd8e51-f74a-45d5-aae9-e5e4d931d270",
     "showTitle": false,
     "title": ""
    }
   },
   "source": [
    "If text1 is empty use text2, if text2 is empty use text1 else concatenate both"
   ]
  },
  {
   "cell_type": "code",
   "execution_count": 0,
   "metadata": {
    "application/vnd.databricks.v1+cell": {
     "cellMetadata": {},
     "inputWidgets": {},
     "nuid": "be0d6932-229a-4d6a-a625-8e952541de92",
     "showTitle": false,
     "title": ""
    }
   },
   "outputs": [],
   "source": [
    "%sql\n",
    "\n",
    "select clean(CASE when`text_sep[2]` is null then `text_sep[1]` when `text_sep[1]`='' then `text_sep[2]` else CONCAT(`text_sep[1]`, ' ', `text_sep[2]`) END), target, title, id FROM newsgroup where `text_sep[2]` is not null and `text_sep[1]` <> ''"
   ]
  },
  {
   "cell_type": "code",
   "execution_count": 0,
   "metadata": {
    "application/vnd.databricks.v1+cell": {
     "cellMetadata": {},
     "inputWidgets": {},
     "nuid": "b5a01023-eca2-4287-84f8-bf6e606f5d58",
     "showTitle": false,
     "title": ""
    }
   },
   "outputs": [],
   "source": [
    "sdf=spark.sql(\"select clean(CASE when`text_sep[2]` is null then `text_sep[1]` when `text_sep[1]`='' then `text_sep[2]` else CONCAT(`text_sep[1]`, ' ', `text_sep[2]`) END) as text, target, title, id FROM newsgroup where `text_sep[2]` is not null and `text_sep[1]` <> ''\")"
   ]
  },
  {
   "cell_type": "code",
   "execution_count": 0,
   "metadata": {
    "application/vnd.databricks.v1+cell": {
     "cellMetadata": {},
     "inputWidgets": {},
     "nuid": "d75d5087-e152-4c82-a9e8-623cb72f095a",
     "showTitle": false,
     "title": ""
    }
   },
   "outputs": [],
   "source": [
    "display(sdf)"
   ]
  },
  {
   "cell_type": "code",
   "execution_count": 0,
   "metadata": {
    "application/vnd.databricks.v1+cell": {
     "cellMetadata": {},
     "inputWidgets": {},
     "nuid": "58682714-2b87-461c-93a0-3ee5122926b1",
     "showTitle": false,
     "title": ""
    }
   },
   "outputs": [],
   "source": [
    "sdf.count()"
   ]
  },
  {
   "cell_type": "code",
   "execution_count": 0,
   "metadata": {
    "application/vnd.databricks.v1+cell": {
     "cellMetadata": {},
     "inputWidgets": {},
     "nuid": "782795e4-0fe8-4c4d-ac37-e31e588771c4",
     "showTitle": false,
     "title": ""
    }
   },
   "outputs": [],
   "source": [
    "from pyspark.sql.functions import col, length\n",
    "\n",
    "display(sdf.where(length(col('text')) < 100))"
   ]
  },
  {
   "cell_type": "markdown",
   "metadata": {
    "application/vnd.databricks.v1+cell": {
     "cellMetadata": {},
     "inputWidgets": {},
     "nuid": "699a5e87-9667-4553-b444-8fc972f4e694",
     "showTitle": false,
     "title": ""
    }
   },
   "source": [
    "These data doesn't seem to add much information to the context. So, we will remove them"
   ]
  },
  {
   "cell_type": "code",
   "execution_count": 0,
   "metadata": {
    "application/vnd.databricks.v1+cell": {
     "cellMetadata": {},
     "inputWidgets": {},
     "nuid": "49a76b2b-661d-42d8-9820-6bd69e755676",
     "showTitle": false,
     "title": ""
    }
   },
   "outputs": [],
   "source": [
    "sdf = sdf.where(length(col('text')) > 100)"
   ]
  },
  {
   "cell_type": "code",
   "execution_count": 0,
   "metadata": {
    "application/vnd.databricks.v1+cell": {
     "cellMetadata": {},
     "inputWidgets": {},
     "nuid": "83026a07-1f3e-4b50-9dc2-a06f56a8fa41",
     "showTitle": false,
     "title": ""
    }
   },
   "outputs": [],
   "source": [
    "sdf.count()"
   ]
  },
  {
   "cell_type": "markdown",
   "metadata": {
    "application/vnd.databricks.v1+cell": {
     "cellMetadata": {},
     "inputWidgets": {},
     "nuid": "ef1375f4-f09d-4297-bd32-ed390aecc3de",
     "showTitle": false,
     "title": ""
    }
   },
   "source": [
    "Feature Engineering"
   ]
  },
  {
   "cell_type": "code",
   "execution_count": 0,
   "metadata": {
    "application/vnd.databricks.v1+cell": {
     "cellMetadata": {},
     "inputWidgets": {},
     "nuid": "d2fb1eae-322e-4a4d-95be-68ac652785b0",
     "showTitle": false,
     "title": ""
    }
   },
   "outputs": [],
   "source": [
    "from pyspark.ml.feature import RegexTokenizer, StopWordsRemover"
   ]
  },
  {
   "cell_type": "code",
   "execution_count": 0,
   "metadata": {
    "application/vnd.databricks.v1+cell": {
     "cellMetadata": {},
     "inputWidgets": {},
     "nuid": "647f739f-56cd-4d0c-a54d-adb32127f111",
     "showTitle": false,
     "title": ""
    }
   },
   "outputs": [],
   "source": [
    "tokenizer = RegexTokenizer(inputCol=\"text\", outputCol=\"tokens\", pattern=\"\\W+\", minTokenLength=4, toLowercase=True)\n",
    "tokenized = tokenizer.transform(sdf)"
   ]
  },
  {
   "cell_type": "code",
   "execution_count": 0,
   "metadata": {
    "application/vnd.databricks.v1+cell": {
     "cellMetadata": {},
     "inputWidgets": {},
     "nuid": "8b332e95-f582-46d0-b12b-9eeab40eea67",
     "showTitle": false,
     "title": ""
    }
   },
   "outputs": [],
   "source": [
    "display(tokenized)"
   ]
  },
  {
   "cell_type": "code",
   "execution_count": 0,
   "metadata": {
    "application/vnd.databricks.v1+cell": {
     "cellMetadata": {},
     "inputWidgets": {},
     "nuid": "84159781-0b77-4a1e-8243-15cdb9582c75",
     "showTitle": false,
     "title": ""
    }
   },
   "outputs": [],
   "source": [
    "spremover = StopWordsRemover(inputCol=\"tokens\", outputCol=\"spfiltered\")\n",
    "spremoved = spremover.transform(tokenized)"
   ]
  },
  {
   "cell_type": "code",
   "execution_count": 0,
   "metadata": {
    "application/vnd.databricks.v1+cell": {
     "cellMetadata": {},
     "inputWidgets": {},
     "nuid": "50e64844-858f-4e0e-bb19-3e5db7402c4b",
     "showTitle": false,
     "title": ""
    }
   },
   "outputs": [],
   "source": [
    "display(spremoved.select(\"tokens\", \"spfiltered\"))"
   ]
  },
  {
   "cell_type": "code",
   "execution_count": 0,
   "metadata": {
    "application/vnd.databricks.v1+cell": {
     "cellMetadata": {},
     "inputWidgets": {},
     "nuid": "aa0162d1-9cb1-4b56-b93a-43b281d2d2cb",
     "showTitle": false,
     "title": ""
    }
   },
   "outputs": [],
   "source": [
    "porter = PorterStemmer()\n",
    "lemma = WordNetLemmatizer()\n",
    "\n",
    "def word_tokenize(text):\n",
    "    pos = nltk.pos_tag(text)\n",
    "    final = [lemma.lemmatize(word[0]) if (lemma.lemmatize(word[0]).endswith(('e','ion')) or len(word[0]) < 4 ) else porter.stem(word[0]) for word in pos]\n",
    "    return final"
   ]
  },
  {
   "cell_type": "code",
   "execution_count": 0,
   "metadata": {
    "application/vnd.databricks.v1+cell": {
     "cellMetadata": {},
     "inputWidgets": {},
     "nuid": "c61007e4-3859-4852-98ac-882bd24800e8",
     "showTitle": false,
     "title": ""
    }
   },
   "outputs": [],
   "source": [
    "spremoved.printSchema()"
   ]
  },
  {
   "cell_type": "code",
   "execution_count": 0,
   "metadata": {
    "application/vnd.databricks.v1+cell": {
     "cellMetadata": {},
     "inputWidgets": {},
     "nuid": "38dae533-dc3f-4df1-86b4-713aa0a3d97e",
     "showTitle": false,
     "title": ""
    }
   },
   "outputs": [],
   "source": [
    "stemmed = spremoved.rdd.map(lambda tup: (tup[1], tup[2], tup[3], word_tokenize(tup[5])))"
   ]
  },
  {
   "cell_type": "code",
   "execution_count": 0,
   "metadata": {
    "application/vnd.databricks.v1+cell": {
     "cellMetadata": {},
     "inputWidgets": {},
     "nuid": "4da914e0-de39-4d7a-b559-c4eeb9867d81",
     "showTitle": false,
     "title": ""
    }
   },
   "outputs": [],
   "source": [
    "stemmed.collect()"
   ]
  },
  {
   "cell_type": "code",
   "execution_count": 0,
   "metadata": {
    "application/vnd.databricks.v1+cell": {
     "cellMetadata": {},
     "inputWidgets": {},
     "nuid": "bdb0fb61-6231-4246-b42c-b5ae99c703e1",
     "showTitle": false,
     "title": ""
    }
   },
   "outputs": [],
   "source": [
    "news_df = stemmed.toDF(schema=['target', 'title', 'id', 'word'])"
   ]
  },
  {
   "cell_type": "code",
   "execution_count": 0,
   "metadata": {
    "application/vnd.databricks.v1+cell": {
     "cellMetadata": {},
     "inputWidgets": {},
     "nuid": "7a137143-4c7e-41a0-824f-12b818f452d6",
     "showTitle": false,
     "title": ""
    }
   },
   "outputs": [],
   "source": [
    "display(news_df)"
   ]
  },
  {
   "cell_type": "markdown",
   "metadata": {
    "application/vnd.databricks.v1+cell": {
     "cellMetadata": {},
     "inputWidgets": {},
     "nuid": "03f052ce-74a1-496d-8c4a-288dc9c50c7f",
     "showTitle": false,
     "title": ""
    }
   },
   "source": [
    "\n",
    "Adding custom stopwords to enhance token meaning"
   ]
  },
  {
   "cell_type": "code",
   "execution_count": 0,
   "metadata": {
    "application/vnd.databricks.v1+cell": {
     "cellMetadata": {},
     "inputWidgets": {},
     "nuid": "cc3020d4-5df9-466e-a6a5-56a3882ee9f9",
     "showTitle": false,
     "title": ""
    }
   },
   "outputs": [],
   "source": [
    "spwordlist = [\"article\", \"write\", \"entry\", \"date\", \"udel\", \"said\", \"tell\", \"think\", \"know\", \"just\", \"isnt\", \"line\", \"like\", \"does\", \"going\", \"make\", \"thanks\",\"also\"]\n",
    "\n",
    "spremover1 = StopWordsRemover(inputCol=\"word\", outputCol=\"word_new\", stopWords=spwordlist)\n",
    "news_df = spremover1.transform(news_df)"
   ]
  },
  {
   "cell_type": "code",
   "execution_count": 0,
   "metadata": {
    "application/vnd.databricks.v1+cell": {
     "cellMetadata": {},
     "inputWidgets": {},
     "nuid": "39c7aa16-4350-4785-9984-62e6d77893c3",
     "showTitle": false,
     "title": ""
    }
   },
   "outputs": [],
   "source": [
    "display(news_df.select(\"word\",\"word_new\"))"
   ]
  },
  {
   "cell_type": "code",
   "execution_count": 0,
   "metadata": {
    "application/vnd.databricks.v1+cell": {
     "cellMetadata": {},
     "inputWidgets": {},
     "nuid": "8e10e5c5-1f02-4175-aa8e-8f573693c85c",
     "showTitle": false,
     "title": ""
    }
   },
   "outputs": [],
   "source": [
    "df_explode = news_df.withColumn('word_new', explode('word_new'))"
   ]
  },
  {
   "cell_type": "code",
   "execution_count": 0,
   "metadata": {
    "application/vnd.databricks.v1+cell": {
     "cellMetadata": {},
     "inputWidgets": {},
     "nuid": "1d27a4a1-d3d0-49bd-aee2-555ecbb19340",
     "showTitle": false,
     "title": ""
    }
   },
   "outputs": [],
   "source": [
    "display(df_explode)"
   ]
  },
  {
   "cell_type": "code",
   "execution_count": 0,
   "metadata": {
    "application/vnd.databricks.v1+cell": {
     "cellMetadata": {},
     "inputWidgets": {},
     "nuid": "f9041a48-be9b-462f-8a58-acbb963d99fa",
     "showTitle": false,
     "title": ""
    }
   },
   "outputs": [],
   "source": [
    "df_explode.createOrReplaceTempView(\"topwords\")"
   ]
  },
  {
   "cell_type": "code",
   "execution_count": 0,
   "metadata": {
    "application/vnd.databricks.v1+cell": {
     "cellMetadata": {},
     "inputWidgets": {},
     "nuid": "0490ab1b-a5ea-47bd-8792-da67dc0172ae",
     "showTitle": false,
     "title": ""
    }
   },
   "outputs": [],
   "source": []
  }
 ],
 "metadata": {
  "application/vnd.databricks.v1+notebook": {
   "dashboards": [],
   "language": "python",
   "notebookMetadata": {
    "pythonIndentUnit": 4
   },
   "notebookName": "Preprocessing",
   "widgets": {}
  }
 },
 "nbformat": 4,
 "nbformat_minor": 0
}
