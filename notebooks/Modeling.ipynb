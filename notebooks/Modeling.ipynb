{
 "cells": [
  {
   "cell_type": "markdown",
   "metadata": {
    "application/vnd.databricks.v1+cell": {
     "cellMetadata": {},
     "inputWidgets": {},
     "nuid": "2a466bf5-5f5e-41ef-aa79-d65ee536a64f",
     "showTitle": false,
     "title": ""
    }
   },
   "source": [
    "\n",
    "Top words used across the document"
   ]
  },
  {
   "cell_type": "code",
   "execution_count": 0,
   "metadata": {
    "application/vnd.databricks.v1+cell": {
     "cellMetadata": {},
     "inputWidgets": {},
     "nuid": "d751ca9a-7eca-4201-8867-8f456e90a3bf",
     "showTitle": false,
     "title": ""
    }
   },
   "outputs": [],
   "source": [
    "%sql\n",
    "\n",
    "select word_new, count(*) as freq from topwords group by word_new order by freq desc"
   ]
  },
  {
   "cell_type": "code",
   "execution_count": 0,
   "metadata": {
    "application/vnd.databricks.v1+cell": {
     "cellMetadata": {},
     "inputWidgets": {},
     "nuid": "e8cbb96e-f42e-4bf0-918e-be5b1878b60d",
     "showTitle": false,
     "title": ""
    }
   },
   "outputs": [],
   "source": [
    "from pyspark.ml.feature import CountVectorizer\n",
    "\n",
    "cv = CountVectorizer(inputCol=\"word_new\", outputCol=\"rawFeatures\", vocabSize=10000, minDF=5)\n",
    "cvmodel = cv.fit(news_df)\n",
    "featurizedData = cvmodel.transform(news_df)"
   ]
  },
  {
   "cell_type": "code",
   "execution_count": 0,
   "metadata": {
    "application/vnd.databricks.v1+cell": {
     "cellMetadata": {},
     "inputWidgets": {},
     "nuid": "488aa48c-65cf-4a77-81db-032e04c5e8b4",
     "showTitle": false,
     "title": ""
    }
   },
   "outputs": [],
   "source": [
    "display(featurizedData)"
   ]
  },
  {
   "cell_type": "code",
   "execution_count": 0,
   "metadata": {
    "application/vnd.databricks.v1+cell": {
     "cellMetadata": {},
     "inputWidgets": {},
     "nuid": "4064972e-84b6-4d32-930a-7146f9d4922d",
     "showTitle": false,
     "title": ""
    }
   },
   "outputs": [],
   "source": [
    "vocab = cvmodel.vocabulary\n",
    "vocab_broadcast = sc.broadcast(vocab)\n",
    "vocab"
   ]
  },
  {
   "cell_type": "code",
   "execution_count": 0,
   "metadata": {
    "application/vnd.databricks.v1+cell": {
     "cellMetadata": {},
     "inputWidgets": {},
     "nuid": "795b605f-cec6-4ed9-b9ed-d804cfe7651e",
     "showTitle": false,
     "title": ""
    }
   },
   "outputs": [],
   "source": [
    "from pyspark.ml.feature import IDF\n",
    "\n",
    "idf = IDF(inputCol=\"rawFeatures\", outputCol=\"features\")\n",
    "idfModel = idf.fit(featurizedData)\n",
    "rescaledData = idfModel.transform(featurizedData)"
   ]
  },
  {
   "cell_type": "code",
   "execution_count": 0,
   "metadata": {
    "application/vnd.databricks.v1+cell": {
     "cellMetadata": {},
     "inputWidgets": {},
     "nuid": "703fe703-6dd0-4a21-92d6-daadeab31e00",
     "showTitle": false,
     "title": ""
    }
   },
   "outputs": [],
   "source": [
    "display(rescaledData)"
   ]
  },
  {
   "cell_type": "code",
   "execution_count": 0,
   "metadata": {
    "application/vnd.databricks.v1+cell": {
     "cellMetadata": {},
     "inputWidgets": {},
     "nuid": "9321ed57-ea81-479f-af46-963832178219",
     "showTitle": false,
     "title": ""
    }
   },
   "outputs": [],
   "source": [
    "rescaledData.printSchema()"
   ]
  },
  {
   "cell_type": "code",
   "execution_count": 0,
   "metadata": {
    "application/vnd.databricks.v1+cell": {
     "cellMetadata": {},
     "inputWidgets": {},
     "nuid": "b9b0dbe7-059a-4183-b6d2-127774ac357e",
     "showTitle": false,
     "title": ""
    }
   },
   "outputs": [],
   "source": [
    "corpus = rescaledData.select('id', 'features').cache()\n",
    "display(corpus)"
   ]
  },
  {
   "cell_type": "code",
   "execution_count": 0,
   "metadata": {
    "application/vnd.databricks.v1+cell": {
     "cellMetadata": {},
     "inputWidgets": {},
     "nuid": "d18cb3ad-3e84-4735-a413-3242baaa2ba8",
     "showTitle": false,
     "title": ""
    }
   },
   "outputs": [],
   "source": [
    "from pyspark.ml.clustering import LDA\n",
    "\n",
    "lda = LDA(k=20, maxIter=50, optimizer=\"em\")\n",
    "model = lda.fit(corpus)"
   ]
  },
  {
   "cell_type": "code",
   "execution_count": 0,
   "metadata": {
    "application/vnd.databricks.v1+cell": {
     "cellMetadata": {},
     "inputWidgets": {},
     "nuid": "62351e01-f67c-4c2d-8922-dfea865676c6",
     "showTitle": false,
     "title": ""
    }
   },
   "outputs": [],
   "source": [
    "ll = model.logLikelihood(corpus)\n",
    "lp = model.logPerplexity(corpus)\n",
    "print(\"The lower bound on the log likelihood of the entire corpus: \" + str(ll))\n",
    "print(\"The upper bound on perplexity: \" + str(lp))"
   ]
  },
  {
   "cell_type": "code",
   "execution_count": 0,
   "metadata": {
    "application/vnd.databricks.v1+cell": {
     "cellMetadata": {},
     "inputWidgets": {},
     "nuid": "7c1c9af0-a5b9-4ecb-ab5d-e73cbb0aec72",
     "showTitle": false,
     "title": ""
    }
   },
   "outputs": [],
   "source": [
    "topicwords=20\n",
    "topics = model.describeTopics(topicwords)\n",
    "print(\"The topics described by their top-weighted terms:\")\n",
    "topics.show(truncate=False)"
   ]
  },
  {
   "cell_type": "code",
   "execution_count": 0,
   "metadata": {
    "application/vnd.databricks.v1+cell": {
     "cellMetadata": {},
     "inputWidgets": {},
     "nuid": "a9d23d96-7c91-4068-8b0f-3543497f2e93",
     "showTitle": false,
     "title": ""
    }
   },
   "outputs": [],
   "source": [
    "tRDD = topics.rdd.map(list)"
   ]
  },
  {
   "cell_type": "code",
   "execution_count": 0,
   "metadata": {
    "application/vnd.databricks.v1+cell": {
     "cellMetadata": {},
     "inputWidgets": {},
     "nuid": "03b192df-b215-450c-88c4-75f526128059",
     "showTitle": false,
     "title": ""
    }
   },
   "outputs": [],
   "source": [
    "topics.printSchema()"
   ]
  },
  {
   "cell_type": "code",
   "execution_count": 0,
   "metadata": {
    "application/vnd.databricks.v1+cell": {
     "cellMetadata": {},
     "inputWidgets": {},
     "nuid": "50ecefa2-4b7d-4b3a-9d1a-247af22e557f",
     "showTitle": false,
     "title": ""
    }
   },
   "outputs": [],
   "source": [
    "tRDD.collect()"
   ]
  },
  {
   "cell_type": "code",
   "execution_count": 0,
   "metadata": {
    "application/vnd.databricks.v1+cell": {
     "cellMetadata": {},
     "inputWidgets": {},
     "nuid": "e8023689-9334-4a0a-a95a-7b961ac50581",
     "showTitle": false,
     "title": ""
    }
   },
   "outputs": [],
   "source": [
    "def topic_vocab(topic):\n",
    "    print(topic)\n",
    "    topicNum = topic[0]\n",
    "    terms = topic[1]\n",
    "    weight = topic[2]\n",
    "    result = []\n",
    "    for i in range(topicwords):\n",
    "        term = vocab[terms[i]]\n",
    "        out = str(topicNum)+\",\"+term+\",\"+str(weight[i])\n",
    "        result.append(out)\n",
    "    return result"
   ]
  },
  {
   "cell_type": "code",
   "execution_count": 0,
   "metadata": {
    "application/vnd.databricks.v1+cell": {
     "cellMetadata": {},
     "inputWidgets": {},
     "nuid": "05230f6d-8b30-490b-9db4-c6e977ea9434",
     "showTitle": false,
     "title": ""
    }
   },
   "outputs": [],
   "source": [
    "tRDD.map(lambda topic: topic_vocab(topic)).collect()"
   ]
  },
  {
   "cell_type": "code",
   "execution_count": 0,
   "metadata": {
    "application/vnd.databricks.v1+cell": {
     "cellMetadata": {},
     "inputWidgets": {},
     "nuid": "40a8641b-5865-483d-8e92-f21cfdf94d81",
     "showTitle": false,
     "title": ""
    }
   },
   "outputs": [],
   "source": [
    "topic = tRDD.map(lambda topic: topic_vocab(topic))"
   ]
  },
  {
   "cell_type": "code",
   "execution_count": 0,
   "metadata": {
    "application/vnd.databricks.v1+cell": {
     "cellMetadata": {},
     "inputWidgets": {},
     "nuid": "c12eb962-9059-4607-bebb-eb866b56fc0f",
     "showTitle": false,
     "title": ""
    }
   },
   "outputs": [],
   "source": [
    "ng_pd = spark.createDataFrame(topic).toPandas()"
   ]
  },
  {
   "cell_type": "code",
   "execution_count": 0,
   "metadata": {
    "application/vnd.databricks.v1+cell": {
     "cellMetadata": {},
     "inputWidgets": {},
     "nuid": "d564f5be-f8c8-4196-8f12-8a35bb125984",
     "showTitle": false,
     "title": ""
    }
   },
   "outputs": [],
   "source": [
    "ng_pd.T"
   ]
  }
 ],
 "metadata": {
  "application/vnd.databricks.v1+notebook": {
   "dashboards": [],
   "language": "python",
   "notebookMetadata": {
    "pythonIndentUnit": 4
   },
   "notebookName": "Modeling",
   "widgets": {}
  }
 },
 "nbformat": 4,
 "nbformat_minor": 0
}
